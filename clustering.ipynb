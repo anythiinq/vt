{
 "cells": [
  {
   "cell_type": "code",
   "execution_count": 5,
   "metadata": {},
   "outputs": [],
   "source": [
    "import glob, os, pandas as pd, numpy as np\n",
    "\n",
    "# load every csv the project has (samples 1-4)\n",
    "files   = glob.glob(\"sample[1-4]-data*.csv\")\n",
    "frames  = []\n",
    "for p in files:\n",
    "    s = int(os.path.basename(p).split('-')[0].replace('sample',''))\n",
    "    df = pd.read_csv(p)\n",
    "    df['sample'] = s\n",
    "    frames.append(df)\n",
    "\n",
    "df_all = pd.concat(frames, ignore_index=True).fillna(0)"
   ]
  },
  {
   "cell_type": "code",
   "execution_count": 6,
   "metadata": {},
   "outputs": [],
   "source": [
    "BLOCK = 45\n",
    "bins   = [0, 4, 10, 13]          # ← the bin set that gives the 72 % result\n",
    "\n",
    "df_blk        = df_all[df_all.block == BLOCK].copy()\n",
    "df_blk['bin'] = df_blk.hours.apply(lambda h: min(bins, key=lambda b: abs(h-b)))\n",
    "\n",
    "# drop wordline – we key only on (bin, die)\n",
    "if 'wl' in df_blk.columns:\n",
    "    df_blk = df_blk.drop(columns=['wl'])"
   ]
  },
  {
   "cell_type": "code",
   "execution_count": null,
   "metadata": {},
   "outputs": [],
   "source": [
    "train_df = df_blk[df_blk['sample'] == 4]   # sample 4  (note: block 45 has **0 rows** here)\n",
    "val_df   = df_blk[df_blk['sample'] == 3]   # sample 3  (lookup learns adaptively)\n",
    "test_df  = df_blk[df_blk['sample'] == 2]   # sample 2  (frozen lookup evaluation)"
   ]
  },
  {
   "cell_type": "code",
   "execution_count": 14,
   "metadata": {},
   "outputs": [],
   "source": [
    "# build an *empty* table first (because sample 4 gave us no rows)\n",
    "lookup = {}\n",
    "\n",
    "def score(df, table, adapt=True):\n",
    "    misses, scored = 0, 0\n",
    "    for _, r in df.iterrows():\n",
    "        key = (r.bin, r.die)\n",
    "        pred = table.get(key)\n",
    "\n",
    "        if pred is None:                    # unseen combo\n",
    "            if adapt:                       # learn quietly\n",
    "                table[key] = r.vt\n",
    "            continue                        # skip scoring\n",
    "        scored += 1\n",
    "        if pred != r.vt:\n",
    "            misses += 1\n",
    "    return None if scored == 0 else misses / scored, scored, misses\n",
    "\n",
    "# ① validate (lookup *learns*)\n",
    "val_rate, val_scored, _ = score(val_df, lookup, adapt=True)\n",
    "\n",
    "# ② test  (lookup frozen)\n",
    "test_rate, test_scored, test_miss = score(test_df, lookup.copy(), adapt=False)"
   ]
  },
  {
   "cell_type": "code",
   "execution_count": 15,
   "metadata": {},
   "outputs": [
    {
     "name": "stdout",
     "output_type": "stream",
     "text": [
      "block 45 – hour-bins 0/4/10/13\n",
      "validation  → 57 keys scored, false-rate 0.912\n",
      "test        → 82 keys scored, false-rate 0.280\n"
     ]
    }
   ],
   "source": [
    "print(\"block 45 – hour-bins 0/4/10/13\")\n",
    "print(f\"validation  → {val_scored} keys scored, false-rate {val_rate:.3f}\")\n",
    "print(f\"test        → {test_scored} keys scored, false-rate {test_rate:.3f}\")"
   ]
  }
 ],
 "metadata": {
  "kernelspec": {
   "display_name": ".venv",
   "language": "python",
   "name": "python3"
  },
  "language_info": {
   "codemirror_mode": {
    "name": "ipython",
    "version": 3
   },
   "file_extension": ".py",
   "mimetype": "text/x-python",
   "name": "python",
   "nbconvert_exporter": "python",
   "pygments_lexer": "ipython3",
   "version": "3.9.6"
  }
 },
 "nbformat": 4,
 "nbformat_minor": 2
}
